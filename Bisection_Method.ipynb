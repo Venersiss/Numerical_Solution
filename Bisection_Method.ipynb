{
 "cells": [
  {
   "cell_type": "code",
   "execution_count": 57,
   "id": "716b9f7b-b87c-427d-a268-d3e20b4994a2",
   "metadata": {
    "scrolled": true
   },
   "outputs": [
    {
     "name": "stdout",
     "output_type": "stream",
     "text": [
      "This is my prototype of Bisection Method\n",
      "The equation Given is: f(x)=x^3-0.165x^2+3.993x10^-4\n",
      "\n",
      "\n",
      "My Xl is: 0.0003993\n",
      "My Xu is: -0.0002662000000000001\n",
      "The product of Xl and Xu is: -1.0629366000000004e-07 which is less than 0 \n",
      "6.654999999999996e-05\n",
      "The product of Xl and Xm is: 2.6573414999999986e-08\n"
     ]
    }
   ],
   "source": [
    "print(\"This is my prototype of Bisection Method\")\n",
    "equation=\"f(x)=x^3-0.165x^2+3.993x10^-4\"\n",
    "\n",
    "radius = 0.055\n",
    "x = 0\n",
    "Xm = 0\n",
    "answer = 0\n",
    "\n",
    "def Xu(radius):\n",
    "    radius=radius*2    \n",
    "    return (radius**3)-(0.165*(radius)**2)+(3.993*10**(-4))\n",
    "\n",
    "\n",
    "def Xl(x):\n",
    "     return (x**3)-(0.165*(x)**2)+(3.993*10**(-4))\n",
    "\n",
    "def solution(x,y):\n",
    "    return Xl(x)*Xu(y)\n",
    "\n",
    "    \n",
    "def root_estimate(x, y):\n",
    "    y=y*2\n",
    "    return (x+y)/2\n",
    "    \n",
    "\n",
    "\n",
    "    \n",
    "\n",
    "\n",
    "    \n",
    "\n",
    "print(\"The equation Given is: \"+str(equation)+\"\\n\\n\")\n",
    "print(\"My Xl is: \" + str(X1(x)))\n",
    "print(\"My Xu is: \" + str(Xu(radius)))\n",
    "print(\"The product of Xl and Xu is: \" + str(solution(x, radius)) + \" which is less than 0 \")\n",
    "answer = solution(x, radius)\n",
    "\n",
    "if answer<0:\n",
    "    x=x\n",
    "    Xm=radius\n",
    "    Xm = root_estimate(x, Xm)\n",
    "    answer = solution(Xm, x)\n",
    "    print(\"The product of Xl and Xm is: \" + str(answer))\n",
    "    \n",
    "    \n",
    "if answer"
   ]
  },
  {
   "cell_type": "code",
   "execution_count": null,
   "id": "6c90bec9-8b10-4c54-9011-7485f5cabd23",
   "metadata": {},
   "outputs": [],
   "source": []
  }
 ],
 "metadata": {
  "kernelspec": {
   "display_name": "Python 3 (ipykernel)",
   "language": "python",
   "name": "python3"
  },
  "language_info": {
   "codemirror_mode": {
    "name": "ipython",
    "version": 3
   },
   "file_extension": ".py",
   "mimetype": "text/x-python",
   "name": "python",
   "nbconvert_exporter": "python",
   "pygments_lexer": "ipython3",
   "version": "3.11.5"
  }
 },
 "nbformat": 4,
 "nbformat_minor": 5
}
